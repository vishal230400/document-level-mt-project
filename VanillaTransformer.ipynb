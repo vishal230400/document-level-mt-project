{
 "cells": [
  {
   "cell_type": "code",
   "execution_count": 1,
   "metadata": {},
   "outputs": [
    {
     "name": "stderr",
     "output_type": "stream",
     "text": [
      "/opt/homebrew/Caskroom/miniconda/base/envs/pytorch_env/lib/python3.9/site-packages/tqdm/auto.py:21: TqdmWarning: IProgress not found. Please update jupyter and ipywidgets. See https://ipywidgets.readthedocs.io/en/stable/user_install.html\n",
      "  from .autonotebook import tqdm as notebook_tqdm\n"
     ]
    }
   ],
   "source": [
    "import torch\n",
    "import torch.nn as nn\n",
    "import torch.optim as optim\n",
    "import torch.nn.functional as F\n",
    "from transformers import AutoTokenizer\n",
    "from torch.utils.data import Dataset, DataLoader"
   ]
  },
  {
   "cell_type": "code",
   "execution_count": 2,
   "metadata": {},
   "outputs": [],
   "source": [
    "class FeedForward(nn.Module):\n",
    "    def __init__(self,d_model,d_ff,droupout=0.1):\n",
    "        super(FeedForward,self).__init__()\n",
    "        self.linear1=nn.Linear(d_model,d_ff)\n",
    "        self.linear2=nn.Linear(d_ff,d_model)\n",
    "        self.dropout=nn.Dropout(droupout)\n",
    "    def forward(self,x):\n",
    "        x=self.linear1(x)\n",
    "        x=F.relu(x)\n",
    "        x=self.dropout(x)\n",
    "        x=self.linear2(x)\n",
    "        return x"
   ]
  },
  {
   "cell_type": "code",
   "execution_count": 3,
   "metadata": {},
   "outputs": [],
   "source": [
    "class PositionalEmbedding(nn.Module):\n",
    "    def __init__(self, d_model, max_len=512):\n",
    "        super(PositionalEmbedding,self).__init__()\n",
    "        pe=torch.zeros(max_len,d_model)\n",
    "        position=torch.arange(0,max_len).unsqueeze(1).float()\n",
    "        division=torch.exp(torch.arange(0,d_model,2).float()*-(torch.log(torch.tensor(10000.0))/d_model))\n",
    "        pe[:,0::2]=torch.sin(position*division)\n",
    "        pe[:,1::2]=torch.cos(position*division)\n",
    "        pe=pe.unsqueeze(0)\n",
    "        self.register_buffer('pe',pe)\n",
    "    def forward(self,x):\n",
    "        return x+self.pe[:,:x.size(1),:].detach()"
   ]
  },
  {
   "cell_type": "code",
   "execution_count": 4,
   "metadata": {},
   "outputs": [],
   "source": [
    "class ScaledDotProductAttention(nn.Module):\n",
    "    def __init__(self, d_model):\n",
    "        super(ScaledDotProductAttention, self).__init__()\n",
    "        self.scale = torch.sqrt(torch.FloatTensor([d_model])).item()\n",
    "        \n",
    "    def forward(self, query, key, value, mask=None):\n",
    "        temp = torch.matmul(query, key.transpose(-2, -1)) / self.scale\n",
    "        \n",
    "        if mask is not None:\n",
    "            if mask.dim() != 4:\n",
    "                mask = mask.unsqueeze(1).unsqueeze(2)\n",
    "            temp = temp.masked_fill(mask == 0, -1e10)\n",
    "            \n",
    "        attention = torch.softmax(temp, dim=-1)\n",
    "        output = torch.matmul(attention, value)\n",
    "    \n",
    "        return output"
   ]
  },
  {
   "cell_type": "code",
   "execution_count": 5,
   "metadata": {},
   "outputs": [],
   "source": [
    "class MultiHeadAttention(nn.Module):\n",
    "    def __init__(self, d_model, num_heads):\n",
    "        super(MultiHeadAttention,self).__init__()\n",
    "        self.d_model=d_model\n",
    "        self.num_heads=num_heads\n",
    "        self.d_k=d_model//num_heads\n",
    "        self.d_v=d_model//num_heads\n",
    "        self.query=nn.Linear(d_model,d_model)\n",
    "        self.key=nn.Linear(d_model,d_model)\n",
    "        self.value=nn.Linear(d_model,d_model)\n",
    "        self.attention=ScaledDotProductAttention(d_model)\n",
    "        self.out=nn.Linear(d_model,d_model)\n",
    "    def forward(self,query,key,value,mask=None):\n",
    "        batch_size=query.size(0)\n",
    "        query=self.query(query).view(batch_size,-1,self.num_heads,self.d_k).transpose(1,2)\n",
    "        key=self.key(key).view(batch_size,-1,self.num_heads,self.d_k).transpose(1,2)\n",
    "        value=self.value(value).view(batch_size,-1,self.num_heads,self.d_v).transpose(1,2)\n",
    "        attention=self.attention(query,key,value,mask).transpose(1,2).contiguous().view(batch_size,-1,self.d_model)\n",
    "        return self.out(attention)"
   ]
  },
  {
   "cell_type": "code",
   "execution_count": 6,
   "metadata": {},
   "outputs": [],
   "source": [
    "class EncoderLayer(nn.Module):\n",
    "    def __init__(self,d_model,num_heads,d_ff,droupout=0.1):\n",
    "        super(EncoderLayer,self).__init__()\n",
    "        self.attention=MultiHeadAttention(d_model,num_heads)\n",
    "        self.feedforward=FeedForward(d_model,d_ff,droupout)\n",
    "        self.norm1=nn.LayerNorm(d_model)\n",
    "        self.norm2=nn.LayerNorm(d_model)\n",
    "        self.dropout=nn.Dropout(droupout)\n",
    "    def forward(self,x,mask=None):\n",
    "        attention_x=self.attention(x,x,x,mask)\n",
    "        x=self.norm1(x+self.dropout(attention_x))\n",
    "        ff_output=self.feedforward(x)\n",
    "        x=self.norm2(x+self.dropout(ff_output))\n",
    "        return x"
   ]
  },
  {
   "cell_type": "code",
   "execution_count": 7,
   "metadata": {},
   "outputs": [],
   "source": [
    "class DecoderLayer(nn.Module):\n",
    "    def __init__(self,d_model,num_heads,d_ff,droupout=0.1):\n",
    "        super(DecoderLayer,self).__init__()\n",
    "        self.attention=MultiHeadAttention(d_model,num_heads)\n",
    "        self.cross_attention=MultiHeadAttention(d_model,num_heads)\n",
    "        self.feedforward=FeedForward(d_model,d_ff,droupout)\n",
    "        self.norm1=nn.LayerNorm(d_model)\n",
    "        self.norm2=nn.LayerNorm(d_model)\n",
    "        self.norm3=nn.LayerNorm(d_model)\n",
    "        self.dropout=nn.Dropout(droupout)\n",
    "    def forward(self,x,memory,maskSelf=None,maskCross=None):\n",
    "        self_attention_x=self.attention(x,x,x,maskSelf)\n",
    "        x=self.norm1(x+self.dropout(self_attention_x))\n",
    "        cross_attention_x=self.cross_attention(x,memory,memory,maskCross)\n",
    "        x=self.norm2(x+self.dropout(cross_attention_x))\n",
    "        ff_output=self.feedforward(x)\n",
    "        x=self.norm3(x+self.dropout(ff_output))\n",
    "        return x"
   ]
  },
  {
   "cell_type": "code",
   "execution_count": 8,
   "metadata": {},
   "outputs": [],
   "source": [
    "class Transformer(nn.Module):\n",
    "    def __init__(self, src_vocab_size, tgt_vocab_size, d_model=512, num_heads=8, d_ff=2048, num_layers=6, dropout=0.1):\n",
    "        super(Transformer, self).__init__()\n",
    "        self.src_embedding = nn.Embedding(src_vocab_size, d_model)\n",
    "        self.tgt_embedding = nn.Embedding(tgt_vocab_size, d_model)\n",
    "        self.positional_embedding = PositionalEmbedding(d_model)\n",
    "        self.encoder_layers = nn.ModuleList([EncoderLayer(d_model, num_heads, d_ff, dropout) for _ in range(num_layers)])\n",
    "        self.decoder_layers = nn.ModuleList([DecoderLayer(d_model, num_heads, d_ff, dropout) for _ in range(num_layers)])\n",
    "        self.out = nn.Linear(d_model, tgt_vocab_size)\n",
    "        self.scale = torch.sqrt(torch.FloatTensor([d_model])).item()\n",
    "        \n",
    "    def forward(self, src, tgt):\n",
    "        # Create masks\n",
    "        src_pad_mask = (src != 0).unsqueeze(1).unsqueeze(2)  # [batch_size, 1, 1, src_len]\n",
    "        tgt_pad_mask = (tgt != 0).unsqueeze(1).unsqueeze(2)  # [batch_size, 1, 1, tgt_len]\n",
    "        \n",
    "        # Embeddings\n",
    "        src = self.src_embedding(src)\n",
    "        tgt = self.tgt_embedding(tgt)\n",
    "        src = self.positional_embedding(src)\n",
    "        tgt = self.positional_embedding(tgt)\n",
    "        \n",
    "        # Encoder\n",
    "        for layer in self.encoder_layers:\n",
    "            src = layer(src, src_pad_mask)\n",
    "        \n",
    "        # Decoder\n",
    "        for layer in self.decoder_layers:\n",
    "            tgt = layer(tgt, src, tgt_pad_mask, src_pad_mask)\n",
    "            \n",
    "        return self.out(tgt)"
   ]
  },
  {
   "cell_type": "code",
   "execution_count": 9,
   "metadata": {},
   "outputs": [],
   "source": [
    "def load_texts(eng_file, hin_file):\n",
    "    with open(eng_file, \"r\", encoding=\"utf-8\") as f:\n",
    "        eng_sentences = f.readlines()\n",
    "    with open(hin_file, \"r\", encoding=\"utf-8\") as f:\n",
    "        hin_sentences = f.readlines()\n",
    "    return [s.strip() for s in eng_sentences], [s.strip() for s in hin_sentences]"
   ]
  },
  {
   "cell_type": "code",
   "execution_count": 10,
   "metadata": {},
   "outputs": [],
   "source": [
    "english_sentences, hindi_sentences = load_texts(\"/Users/vishalsankarram/Desktop/github/document-level-mt-project/PM India en hi/pmindia.en-hi.en\", \"/Users/vishalsankarram/Desktop/github/document-level-mt-project/PM India en hi/pmindia.en-hi.hi\")"
   ]
  },
  {
   "cell_type": "code",
   "execution_count": 11,
   "metadata": {},
   "outputs": [],
   "source": [
    "src_tokenizer = AutoTokenizer.from_pretrained(\"bert-base-uncased\")\n",
    "tgt_tokenizer = AutoTokenizer.from_pretrained(\"ai4bharat/indic-bert\")"
   ]
  },
  {
   "cell_type": "code",
   "execution_count": 12,
   "metadata": {},
   "outputs": [],
   "source": [
    "class TranslationDataset(Dataset):\n",
    "    def __init__(self, src_texts, tgt_texts, src_tokenizer, tgt_tokenizer, max_length=128):\n",
    "        self.src_texts = src_texts\n",
    "        self.tgt_texts = tgt_texts\n",
    "        self.src_tokenizer = src_tokenizer\n",
    "        self.tgt_tokenizer = tgt_tokenizer\n",
    "        self.max_length = max_length\n",
    "\n",
    "    def __len__(self):\n",
    "        return len(self.src_texts)\n",
    "\n",
    "    def __getitem__(self, idx):\n",
    "        src = self.src_tokenizer.encode(self.src_texts[idx], max_length=self.max_length, padding=\"max_length\", truncation=True, return_tensors=\"pt\")\n",
    "        tgt = self.tgt_tokenizer.encode(self.tgt_texts[idx], max_length=self.max_length, padding=\"max_length\", truncation=True, return_tensors=\"pt\")\n",
    "        return src.squeeze(0), tgt.squeeze(0)"
   ]
  },
  {
   "cell_type": "code",
   "execution_count": 13,
   "metadata": {},
   "outputs": [],
   "source": [
    "train_dataset = TranslationDataset(english_sentences, hindi_sentences, src_tokenizer, tgt_tokenizer)\n",
    "train_dataloader = DataLoader(train_dataset, batch_size=4, shuffle=True)"
   ]
  },
  {
   "cell_type": "code",
   "execution_count": 14,
   "metadata": {},
   "outputs": [],
   "source": [
    "device = torch.device(\"cuda\" if torch.cuda.is_available() else \"mps\" if torch.backends.mps.is_available() else \"cpu\")\n",
    "src_vocab_size, tgt_vocab_size = len(src_tokenizer), len(tgt_tokenizer)\n",
    "model = Transformer(src_vocab_size, tgt_vocab_size).to(device)\n",
    "criterion = nn.CrossEntropyLoss(ignore_index=0)\n",
    "optimizer = optim.AdamW(model.parameters(), lr=3e-4)"
   ]
  },
  {
   "cell_type": "code",
   "execution_count": null,
   "metadata": {},
   "outputs": [],
   "source": [
    "def train_model(num_epochs=10):\n",
    "    for epoch in range(num_epochs):\n",
    "        model.train()\n",
    "        total_loss = 0\n",
    "        for src, tgt in train_dataloader:\n",
    "            src, tgt = src.to(device), tgt.to(device)\n",
    "            optimizer.zero_grad()\n",
    "            output = model(src, tgt[:, :-1])\n",
    "            loss = criterion(output.view(-1, tgt_vocab_size), tgt[:, 1:].reshape(-1))\n",
    "            loss.backward()\n",
    "            optimizer.step()\n",
    "            total_loss += loss.item()\n",
    "        print(f\"Epoch {epoch+1}/{num_epochs}, Loss: {total_loss / len(train_dataloader)}\")\n",
    "\n",
    "train_model()\n",
    "\n",
    "def translate(sentence, model, src_tokenizer, tgt_tokenizer, max_length=128):\n",
    "    model.eval()\n",
    "    src_tokens = src_tokenizer.encode(sentence, max_length=max_length, padding=\"max_length\", truncation=True, return_tensors=\"pt\").to(device)\n",
    "    tgt_tokens = torch.tensor([[tgt_tokenizer.cls_token_id]]).to(device)\n",
    "\n",
    "    for _ in range(max_length):\n",
    "        output = model(src_tokens, tgt_tokens)\n",
    "        next_token = output[:, -1, :].argmax(-1).unsqueeze(0)\n",
    "        tgt_tokens = torch.cat([tgt_tokens, next_token], dim=1)\n",
    "        if next_token.item() == tgt_tokenizer.sep_token_id:\n",
    "            break\n",
    "    \n",
    "    return tgt_tokenizer.decode(tgt_tokens[0].tolist(), skip_special_tokens=True)\n",
    "\n",
    "print(translate(\"Hello, how are you?\", model, src_tokenizer, tgt_tokenizer))\n"
   ]
  }
 ],
 "metadata": {
  "kernelspec": {
   "display_name": "pytorch_env",
   "language": "python",
   "name": "python3"
  },
  "language_info": {
   "codemirror_mode": {
    "name": "ipython",
    "version": 3
   },
   "file_extension": ".py",
   "mimetype": "text/x-python",
   "name": "python",
   "nbconvert_exporter": "python",
   "pygments_lexer": "ipython3",
   "version": "3.9.21"
  }
 },
 "nbformat": 4,
 "nbformat_minor": 2
}
