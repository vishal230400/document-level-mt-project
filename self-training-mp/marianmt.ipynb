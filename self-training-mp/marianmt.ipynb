{
 "cells": [
  {
   "cell_type": "code",
   "execution_count": 1,
   "metadata": {},
   "outputs": [
    {
     "name": "stderr",
     "output_type": "stream",
     "text": [
      "/opt/homebrew/anaconda3/envs/pcsci544/lib/python3.10/site-packages/tqdm/auto.py:21: TqdmWarning: IProgress not found. Please update jupyter and ipywidgets. See https://ipywidgets.readthedocs.io/en/stable/user_install.html\n",
      "  from .autonotebook import tqdm as notebook_tqdm\n"
     ]
    }
   ],
   "source": [
    "from transformers import MarianMTModel, MarianTokenizer\n",
    "from transformers import pipeline\n",
    "import torch\n",
    "import torch.nn.functional as F\n",
    "from torch.optim import AdamW\n",
    "from copy import deepcopy\n",
    "import numpy as np\n",
    "from tqdm import tqdm\n",
    "import os\n",
    "import random\n",
    "import gc"
   ]
  },
  {
   "cell_type": "code",
   "execution_count": 2,
   "metadata": {},
   "outputs": [],
   "source": [
    "def get_model():\n",
    "    model_name = \"Helsinki-NLP/opus-mt-en-hi\"\n",
    "    tokenizer = MarianTokenizer.from_pretrained(model_name)\n",
    "    model = MarianMTModel.from_pretrained(model_name)\n",
    "\n",
    "    # Freezing all but the last two decoder blocks for fine tuning\n",
    "    for name, param in model.named_parameters():\n",
    "        if name.startswith(\"model.decoder.layers.4\") or name.startswith(\"model.decoder.layers.5\"):\n",
    "            param.requires_grad = True\n",
    "        else:\n",
    "            param.requires_grad = False\n",
    "\n",
    "    device = torch.device(\"mps\" if torch.mps.is_available() else \"cpu\")\n",
    "    model.to(device)\n",
    "\n",
    "    return model, tokenizer"
   ]
  },
  {
   "cell_type": "code",
   "execution_count": 3,
   "metadata": {},
   "outputs": [],
   "source": [
    "device = torch.device(\"mps\" if torch.mps.is_available() else \"cpu\")\n",
    "# model.to(device)"
   ]
  },
  {
   "cell_type": "code",
   "execution_count": 4,
   "metadata": {},
   "outputs": [],
   "source": [
    "def self_training(model, source_doc, tokenizer, lr=5e-3, decay_lambda=0.7, num_steps=2, passes=2):\n",
    "    model.train()\n",
    "    optimizer = AdamW(model.parameters(), lr=lr)\n",
    "    \n",
    "    # Store original parameters for decay regularization\n",
    "    og_params = [p.detach().clone() for p in model.parameters()]\n",
    "\n",
    "    for pass_idx in range(passes):\n",
    "        for sent_idx, sentence in enumerate(source_doc):\n",
    "            \n",
    "            source_tokens = tokenizer(sentence, return_tensors=\"pt\", padding=True, truncation=True, max_length=512).to(model.device)\n",
    "\n",
    "            # Generate translation\n",
    "            with torch.no_grad():\n",
    "                generated_tokens = model.generate(**source_tokens, max_length=128)\n",
    "            translations = tokenizer.batch_decode(generated_tokens, skip_special_tokens=True)\n",
    "\n",
    "            # Tokenize generated translation as target\n",
    "            targets = tokenizer(text_target=translations, return_tensors=\"pt\", padding=True, truncation=True, max_length=512).to(model.device)\n",
    "\n",
    "            for step in range(num_steps):\n",
    "                optimizer.zero_grad()\n",
    "                outputs = model(**source_tokens, labels=targets[\"input_ids\"])\n",
    "                loss = outputs.loss\n",
    "                loss.backward()\n",
    "\n",
    "                # Optional: gradient clipping\n",
    "                torch.nn.utils.clip_grad_norm_(model.parameters(), max_norm=1.0)\n",
    "\n",
    "                # Decay regularization\n",
    "                for p_current, p_orig in zip(model.parameters(), og_params):\n",
    "                    if p_current.grad is not None:\n",
    "                        p_current.grad += decay_lambda * (p_current - p_orig)\n",
    "\n",
    "                optimizer.step()\n",
    "\n",
    "                # print(f\"[Pass {pass_idx} | Sentence {sent_idx} | Step {step}] Loss: {loss.item():.4f}\")\n",
    "\n",
    "    return model"
   ]
  },
  {
   "cell_type": "code",
   "execution_count": 5,
   "metadata": {},
   "outputs": [],
   "source": [
    "def print_translations(model, tokenizer, sentences, title=\"\"):\n",
    "    print(f\"\\n--- {title} ---\")\n",
    "    model.eval()\n",
    "    with torch.no_grad():\n",
    "        inputs = tokenizer(sentences, return_tensors=\"pt\", padding=True).to(model.device)\n",
    "        outputs = model.generate(**inputs, max_length=128)\n",
    "        translations = tokenizer.batch_decode(outputs, skip_special_tokens=True)\n",
    "        for en, hi in zip(sentences, translations):\n",
    "            print(f\"EN: {en}\")\n",
    "            print(f\"HI: {hi}\")\n",
    "            print()"
   ]
  },
  {
   "cell_type": "code",
   "execution_count": 6,
   "metadata": {},
   "outputs": [],
   "source": [
    "def read_documents_from_dir(directory_path):\n",
    "    documents = []\n",
    "\n",
    "    for filename in sorted(os.listdir(directory_path)):\n",
    "        if filename.endswith(\".txt\"):\n",
    "            file_path = os.path.join(directory_path, filename)\n",
    "            with open(file_path, \"r\", encoding=\"utf-8\") as f:\n",
    "                # Each line is a sentence; remove blank lines\n",
    "                sentences = [line.strip() for line in f.readlines() if line.strip()]\n",
    "                if sentences:\n",
    "                    documents.append(sentences)\n",
    "    return documents\n",
    "\n",
    "dir_path = \"./dataset/test1\"\n",
    "test_docs = read_documents_from_dir(dir_path)"
   ]
  },
  {
   "cell_type": "code",
   "execution_count": 7,
   "metadata": {},
   "outputs": [],
   "source": [
    "def load_from_pm(dir_path, num_docs=250, seed=42):\n",
    "    random.seed(seed)\n",
    "    all_docs = [f for f in os.listdir(dir_path) if f.endswith(\".txt\")]\n",
    "\n",
    "    selected_docs = random.sample(all_docs, k=num_docs)\n",
    "\n",
    "    documents = []\n",
    "\n",
    "    for filename in selected_docs:\n",
    "        file_path = os.path.join(dir_path, filename)\n",
    "        with open(file_path, \"r\", encoding='utf-8') as fin:\n",
    "            sentences = [line.strip() for line in fin.readlines() if line.strip()]\n",
    "            if sentences:\n",
    "                documents.append(sentences)\n",
    "    return documents\n",
    "\n",
    "dir_path = \"./dataset/split\"\n",
    "source_docs = load_from_pm(dir_path, num_docs=50)"
   ]
  },
  {
   "cell_type": "code",
   "execution_count": 13,
   "metadata": {},
   "outputs": [],
   "source": [
    "model, tokenizer = get_model()"
   ]
  },
  {
   "cell_type": "code",
   "execution_count": 14,
   "metadata": {},
   "outputs": [
    {
     "name": "stdout",
     "output_type": "stream",
     "text": [
      "\n",
      "--- Doc 1: Before Self-Training ---\n",
      "EN: Prime Minister, Shri Narendra Modi, has greeted the people of Telangana and Andhra Pradesh.\n",
      "HI: प्रधानमंत्री, शैरी नाही मोडी ने तेलहना और आशश के लोगों को नमस्कार किया है ।\n",
      "\n",
      "EN: “My best wishes to the people of Telangana on the occasion of their Statehood Day.\n",
      "HI: “ मेरी सबसे अच्छी ख्वाहिश है कि मैं अपने राष्ट्र - समारोह के अवसर पर तेलगाना के लोगों से दूर हो जाऊँ ।\n",
      "\n",
      "EN: My best wishes for the State’s development journey.\n",
      "HI: मैं सरकार के विकास यात्रा के लिए पूरी इच्छा रखता हूँ.\n",
      "\n",
      "EN: Greetings & good wishes to my sisters & brothers of Andhra Pradesh in the development journey of this hardworking State,” the Prime Minister said.\n",
      "HI: इस मेहनती राज्य के विकास यात्रा में मेरी बहनों और उनके भाइयों के लिए नमस्कार अच्छा चाहता है.\n",
      "\n",
      "\n",
      "--- Doc 2: Before Self-Training ---\n",
      "EN: Prime Minister, Shri Narendra Modi has conveyed his condolences to the families of those on Flight QZ8501.\n",
      "HI: प्रधानमंत्री, शैरी नाही मोडी ने अपने परिवार को QZ8501 पर उड़ान भरने वाले परिवारों को अपनी पकड़ दी है.\n",
      "\n",
      "EN: “Our thoughts are with the families of those on Flight QZ8501.\n",
      "HI: “ हमारा विचार उन लोगों के परिवारों के साथ है जो भागना चाहते हैं QZ8501 के परिवार ।\n",
      "\n",
      "EN: We offer our condolences and stand firmly with them in this hour of grief”, said the Prime Minister.\n",
      "HI: हम दुख के इस घड़ी में अपने कृषकों को पेश करते हैं और उनके साथ दृढ़ खड़े रहते हैं, प्रधानमंत्री ने कहा.\n",
      "\n",
      "\n",
      "--- Doc 3: Before Self-Training ---\n",
      "EN: The Prime Minister, Shri Narendra Modi, today released a book on the life of Late Shri Kedarnath Sahni.\n",
      "HI: प्रधान मंत्री, शैरी नाही मोडी ने, आज लीरी केदार स्नानी के जीवन पर एक किताब रिलीज़ की है ।\n",
      "\n",
      "EN: Speaking on the occasion, the Prime Minister recalled several anecdotes about Shri Sahni.\n",
      "HI: उस अवसर पर बोलते वक्‍त, प्रधानमंत्री ने शिनानी के बारे में अनेक अवसरों को याद किया ।\n",
      "\n",
      "EN: Expressing concern at the decline in moral values in society and in public life, the Prime Minister asserted that corruption and black money cannot be accepted as a part of the system.\n",
      "HI: समाज में और सार्वजनिक जीवन में नैतिक मूल्यों में गिरावट के प्रति चिन्ता व्यक्‍त करते हुए, प्रधान मंत्री ने दावा किया कि भ्रष्टाचार और काले पैसे को व्यवस्था का एक भाग स्वीकार नहीं किया जा सकता ।\n",
      "\n",
      "EN: He said that we must think about the future of the nation, and not accept any compromise on corruption.\n",
      "HI: उसने कहा कि हमें उस जाति के भविष्य के बारे में सोचना चाहिए, और भ्रष्टाचार पर कोई समझौता स्वीकार नहीं करना चाहिए ।\n",
      "\n",
      "\n",
      "--- Doc 4: Before Self-Training ---\n",
      "EN: World Leaders have congratulated Prime Minister Shri Narendra Modi on the victory in the recently held assembly elections.\n",
      "HI: विश्‍व नेताओं ने हाल ही में आयोजित सम्मेलन चुनावों में विजय पर प्रधान मंत्री को बधाई दी है ।\n",
      "\n",
      "EN: Crown Prince of Abu Dhabi, HH Sheikh Mohammed Bin Zayed Al Nahyan, The Emir of Qatar HH Sheikh Tamim bin Hamad Al Thani and French President, HE Francois Hollande spoke to the Prime Minister, Shri Narendra Modi and conveyed their felicitations.\n",
      "HI: अब्बीवा के राजकुमार, HHhhhhhhhhhhhhhhhhhhhhhhhhhhhhhhhhu' Ad और फ्रेंच राष्ट्रपति से अधिक, Hi'sa राजकुमार ने प्रधानमंत्री मंत्री से बात की और उनके इरादों को समझाया.\n",
      "\n"
     ]
    }
   ],
   "source": [
    "for idx, doc in enumerate(test_docs):\n",
    "    print_translations(model, tokenizer, doc, title=f\"Doc {idx+1}: Before Self-Training\")"
   ]
  },
  {
   "cell_type": "code",
   "execution_count": null,
   "metadata": {},
   "outputs": [
    {
     "name": "stderr",
     "output_type": "stream",
     "text": [
      "Self Training...: 100%|██████████| 50/50 [41:13<00:00, 49.48s/it]  \n"
     ]
    }
   ],
   "source": [
    "for doc in tqdm(test_docs, desc=\"Self Training...\"):\n",
    "    model = self_training(\n",
    "        model=model,\n",
    "        source_doc=doc,\n",
    "        tokenizer=tokenizer,\n",
    "        lr=1e-4,\n",
    "        decay_lambda=0.9,\n",
    "        num_steps=2,\n",
    "        passes=3\n",
    "    )\n",
    "\n",
    "    if torch.backends.mps.is_available():\n",
    "        gc.collect()\n",
    "        torch.mps.empty_cache()"
   ]
  },
  {
   "cell_type": "code",
   "execution_count": 12,
   "metadata": {},
   "outputs": [
    {
     "name": "stdout",
     "output_type": "stream",
     "text": [
      "\n",
      "--- Doc 1: After Self-Training ---\n",
      "EN: Prime Minister, Shri Narendra Modi, has greeted the people of Telangana and Andhra Pradesh.\n",
      "HI: उन्होंने यह भी बताया कि उन्होंने क्या - क्या किया ।\n",
      "\n",
      "EN: “My best wishes to the people of Telangana on the occasion of their Statehood Day.\n",
      "HI: उन्होंने यह भी बताया कि उन्होंने क्या - क्या किया ।\n",
      "\n",
      "EN: My best wishes for the State’s development journey.\n",
      "HI: उन्होंने यह भी बताया कि उन्होंने क्या - क्या किया ।\n",
      "\n",
      "EN: Greetings & good wishes to my sisters & brothers of Andhra Pradesh in the development journey of this hardworking State,” the Prime Minister said.\n",
      "HI: उन्होंने यह भी बताया कि उन्होंने क्या - क्या किया ।\n",
      "\n",
      "\n",
      "--- Doc 2: After Self-Training ---\n",
      "EN: Prime Minister, Shri Narendra Modi has conveyed his condolences to the families of those on Flight QZ8501.\n",
      "HI: उन्होंने यह भी बताया कि उन्होंने क्या - क्या किया ।\n",
      "\n",
      "EN: “Our thoughts are with the families of those on Flight QZ8501.\n",
      "HI: उन्होंने यह भी बताया कि उन्होंने क्या - क्या किया ।\n",
      "\n",
      "EN: We offer our condolences and stand firmly with them in this hour of grief”, said the Prime Minister.\n",
      "HI: उन्होंने यह भी बताया कि उन्होंने क्या - क्या किया ।\n",
      "\n",
      "\n",
      "--- Doc 3: After Self-Training ---\n",
      "EN: The Prime Minister, Shri Narendra Modi, today released a book on the life of Late Shri Kedarnath Sahni.\n",
      "HI: उन्होंने यह भी बताया कि उन्होंने क्या - क्या किया ।\n",
      "\n",
      "EN: Speaking on the occasion, the Prime Minister recalled several anecdotes about Shri Sahni.\n",
      "HI: उन्होंने यह भी बताया कि उन्होंने क्या - क्या किया ।\n",
      "\n",
      "EN: Expressing concern at the decline in moral values in society and in public life, the Prime Minister asserted that corruption and black money cannot be accepted as a part of the system.\n",
      "HI: उन्होंने यह भी बताया कि उन्होंने क्या - क्या किया ।\n",
      "\n",
      "EN: He said that we must think about the future of the nation, and not accept any compromise on corruption.\n",
      "HI: उन्होंने यह भी बताया कि उन्होंने क्या - क्या किया ।\n",
      "\n",
      "\n",
      "--- Doc 4: After Self-Training ---\n",
      "EN: World Leaders have congratulated Prime Minister Shri Narendra Modi on the victory in the recently held assembly elections.\n",
      "HI: उन्होंने यह भी बताया कि उन्होंने क्या - क्या किया ।\n",
      "\n",
      "EN: Crown Prince of Abu Dhabi, HH Sheikh Mohammed Bin Zayed Al Nahyan, The Emir of Qatar HH Sheikh Tamim bin Hamad Al Thani and French President, HE Francois Hollande spoke to the Prime Minister, Shri Narendra Modi and conveyed their felicitations.\n",
      "HI: उन्होंने यह भी बताया कि उन्होंने क्या - क्या किया ।\n",
      "\n"
     ]
    }
   ],
   "source": [
    "for idx, doc in enumerate(test_docs):\n",
    "    print_translations(model, tokenizer, doc, title=f\"Doc {idx+1}: After Self-Training\")"
   ]
  }
 ],
 "metadata": {
  "kernelspec": {
   "display_name": "pcsci544",
   "language": "python",
   "name": "python3"
  },
  "language_info": {
   "codemirror_mode": {
    "name": "ipython",
    "version": 3
   },
   "file_extension": ".py",
   "mimetype": "text/x-python",
   "name": "python",
   "nbconvert_exporter": "python",
   "pygments_lexer": "ipython3",
   "version": "3.10.16"
  }
 },
 "nbformat": 4,
 "nbformat_minor": 2
}
